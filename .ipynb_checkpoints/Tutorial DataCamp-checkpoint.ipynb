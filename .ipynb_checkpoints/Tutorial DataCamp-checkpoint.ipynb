{
 "cells": [
  {
   "cell_type": "code",
   "execution_count": 1,
   "metadata": {},
   "outputs": [
    {
     "name": "stderr",
     "output_type": "stream",
     "text": [
      "C:\\ProgramData\\Anaconda3\\lib\\site-packages\\h5py\\__init__.py:36: FutureWarning: Conversion of the second argument of issubdtype from `float` to `np.floating` is deprecated. In future, it will be treated as `np.float64 == np.dtype(float).type`.\n",
      "  from ._conv import register_converters as _register_converters\n"
     ]
    },
    {
     "name": "stdout",
     "output_type": "stream",
     "text": [
      "b'Hello, World'\n"
     ]
    }
   ],
   "source": [
    "import tensorflow as tf\n",
    "hello = tf.constant('Hello, World')\n",
    "sess = tf.Session()\n",
    "print(sess.run(hello))"
   ]
  },
  {
   "cell_type": "code",
   "execution_count": 2,
   "metadata": {},
   "outputs": [
    {
     "name": "stdout",
     "output_type": "stream",
     "text": [
      "This is a tutorial from DataCamp: https://www.datacamp.com/community/tutorials/tensorflow-tutorial\n"
     ]
    }
   ],
   "source": [
    "print(\"This is a tutorial from DataCamp: https://www.datacamp.com/community/tutorials/tensorflow-tutorial\")"
   ]
  },
  {
   "cell_type": "code",
   "execution_count": 3,
   "metadata": {},
   "outputs": [
    {
     "name": "stdout",
     "output_type": "stream",
     "text": [
      "WARNING:tensorflow:From C:\\ProgramData\\Anaconda3\\lib\\site-packages\\tensorflow\\python\\framework\\op_def_library.py:263: colocate_with (from tensorflow.python.framework.ops) is deprecated and will be removed in a future version.\n",
      "Instructions for updating:\n",
      "Colocations handled automatically by placer.\n",
      "Tensor(\"Mul:0\", shape=(4,), dtype=int32)\n",
      "Tensor(\"Const_3:0\", shape=(1,), dtype=string)\n",
      "<tf.Variable 'Variable:0' shape=(1,) dtype=string_ref>\n"
     ]
    }
   ],
   "source": [
    "# Initialize two constants\n",
    "x1 = tf.constant([1,2,3,4])\n",
    "x2 = tf.constant([5,6,7,8])\n",
    "#Existen dos tipos mas de valores aparte de las constantes, que son los placeholders y las variables.\n",
    "#Los Placeholders son valores que no estan asignados y que seran inicializados cuando se ejecute la sesion.\n",
    "#el tipo placeholder viene a ser como un marcador de posicion para un tensor que es inicializado por la sesion cuando\n",
    "#esta se ejecuta\n",
    "#Por otro lado, esta el tipo \"variable\", que son valores que se pueden modificar,y las constantes son constantes -_-!\n",
    "# Multiply\n",
    "result = tf.multiply(x1, x2)\n",
    "\n",
    "pantalla1 = tf.constant([\"Opcion 1:\"], tf.string)\n",
    "pantalla2 = tf.Variable([\"Opcion 2:\"], tf.string)\n",
    "# Print the result\n",
    "print(result)\n",
    "print(pantalla1)\n",
    "print(pantalla2)\n",
    "#Por pantalla se muestra un tensor abstracto en el \"computational graph\", pero la operación no se ha ejecutado, \n",
    "#se ha definido el modelo. TensorFlow sigue el modelo \"lazy evaluation\" o evaluacion perezosa"
   ]
  },
  {
   "cell_type": "code",
   "execution_count": 4,
   "metadata": {},
   "outputs": [
    {
     "name": "stdout",
     "output_type": "stream",
     "text": [
      "[b'Opcion buba:']\n",
      "[ 5 12 21 32]\n",
      "[b'Opcion 2:']\n",
      "[b'Opcion 2:']\n",
      "[ 5 12 21 32]\n"
     ]
    }
   ],
   "source": [
    "# Initialize two constants\n",
    "x1 = tf.constant([1,2,3,4])\n",
    "x2 = tf.constant([5,6,7,8])\n",
    "\n",
    "# Multiply\n",
    "result = tf.multiply(x1, x2)\n",
    "\n",
    "pantalla1 = tf.constant([\"Opcion 1:\"], tf.string)\n",
    "pantalla2 = tf.constant([\"Opcion 2:\"], tf.string)\n",
    "pantalla1 = tf.constant([\"Opcion buba:\"], tf.string)\n",
    "\n",
    "#Para mostrar el resultado del tensor, debemos de inicializar o ejecutar la sesion. Existen dos maneras. Una debemos de \n",
    "#cerrarla nosotros, y otra se cierra automaticamente al ejecutarse la ultima linea que contiene. Aunque en el tutorial \n",
    "#de datacamp son dos ejecuciones diferentes, y la sesion es cerrada, ejecutare aqui ambas opciones.\n",
    "\n",
    "############Opcion 1########\n",
    "#Debemos de cerrar nosotros la sesion\n",
    "# Intialize the Session\n",
    "sess = tf.Session()\n",
    "\n",
    "# Print the result\n",
    "print(sess.run(pantalla1))\n",
    "print(sess.run(result))\n",
    "# Close the session\n",
    "sess.close()\n",
    "\n",
    "###########Opcion 2##########\n",
    "#La sesion se cierra automaticamente\n",
    "\n",
    "# Initialize Session and run `result`\n",
    "with tf.Session() as sess:\n",
    "    #Nota aqui no podemos hacer lo siguiente:\n",
    "#     pantalla = sess.run(pantalla2)\n",
    "#     print(pantalla)\n",
    "    #Esto da un fallo, porque la variable no ha sido inicializada. Las variables en tensorflow deben de ser inicialiadas\n",
    "    #antes de poder usarlas, para ello, tenemos dos opciones, o inicializar una variable solo(o conjunto de variables)\n",
    "    #o inicializar directamente todas las variables, aunque he probado no me ha salido, asi que se vera mas adelante\n",
    "    pantalla = sess.run(pantalla2)\n",
    "    print(pantalla)\n",
    "    print(sess.run(pantalla2))\n",
    "    output = sess.run(result)\n",
    "    print(output)"
   ]
  },
  {
   "cell_type": "code",
   "execution_count": 5,
   "metadata": {},
   "outputs": [
    {
     "name": "stdout",
     "output_type": "stream",
     "text": [
      "[ 5 12 21 32]\n"
     ]
    }
   ],
   "source": [
    "#En los ejemplos anteriores, hemos definido una sesion predeterminada, pero a una sesion tambien se le pueden pasar\n",
    "#opciones de configuracion\n",
    "# Initialize two constants\n",
    "x1 = tf.constant([1,2,3,4])\n",
    "x2 = tf.constant([5,6,7,8])\n",
    "\n",
    "# Multiply\n",
    "result = tf.multiply(x1, x2)\n",
    "# Creates a session with log_device_placement set to True.\n",
    "sess = tf.Session(config=tf.ConfigProto(log_device_placement=True))\n",
    "# Runs the op.\n",
    "print(sess.run(result))\n",
    "# sess.close()\n",
    "# # Initialize Session and run `result`\n",
    "# with tf.Session() as sess:\n",
    "#     config=tf.ConfigProto(log_device_placement=True)\n",
    "#     output = sess.run(result)\n",
    "#     print(output)\n",
    "# #     print(config)\n"
   ]
  },
  {
   "cell_type": "code",
   "execution_count": 6,
   "metadata": {},
   "outputs": [
    {
     "name": "stdout",
     "output_type": "stream",
     "text": [
      "[[22. 28.]\n",
      " [49. 64.]]\n"
     ]
    }
   ],
   "source": [
    "#This part is from official tensorflow page: \n",
    "# https://www.tensorflow.org/guide/using_gpu\n",
    "\n",
    "# Creates a graph.\n",
    "a = tf.constant([1.0, 2.0, 3.0, 4.0, 5.0, 6.0], shape=[2, 3], name='a')\n",
    "b = tf.constant([1.0, 2.0, 3.0, 4.0, 5.0, 6.0], shape=[3, 2], name='b')\n",
    "c = tf.matmul(a, b)\n",
    "# Creates a session with log_device_placement set to True.\n",
    "sess = tf.Session(config=tf.ConfigProto(log_device_placement=True))\n",
    "# Runs the op.\n",
    "print(sess.run(c))\n",
    "#We should be something similar to:\n",
    "##### Device mapping:\n",
    "##### /job:localhost/replica:0/task:0/device:GPU:0 -> device: 0, name: Tesla K40c, pci bus\n",
    "##### id: 0000:05:00.0\n",
    "##### b: /job:localhost/replica:0/task:0/device:GPU:0\n",
    "##### a: /job:localhost/replica:0/task:0/device:GPU:0\n",
    "##### MatMul: /job:localhost/replica:0/task:0/device:GPU:0\n",
    "##### [[ 22.  28.]\n",
    "#####  [ 49.  64.]]\n",
    "# But this not works for me.\n"
   ]
  },
  {
   "cell_type": "code",
   "execution_count": 7,
   "metadata": {},
   "outputs": [
    {
     "name": "stdout",
     "output_type": "stream",
     "text": [
      "[node {\n",
      "  name: \"MatMul_1\"\n",
      "  op: \"Const\"\n",
      "  device: \"/job:localhost/replica:0/task:0/device:CPU:0\"\n",
      "  attr {\n",
      "    key: \"dtype\"\n",
      "    value {\n",
      "      type: DT_FLOAT\n",
      "    }\n",
      "  }\n",
      "  attr {\n",
      "    key: \"value\"\n",
      "    value {\n",
      "      tensor {\n",
      "        dtype: DT_FLOAT\n",
      "        tensor_shape {\n",
      "          dim {\n",
      "            size: 2\n",
      "          }\n",
      "          dim {\n",
      "            size: 2\n",
      "          }\n",
      "        }\n",
      "        tensor_content: \"\\000\\000\\260A\\000\\000\\340A\\000\\000DB\\000\\000\\200B\"\n",
      "      }\n",
      "    }\n",
      "  }\n",
      "  experimental_debug_info {\n",
      "    original_node_names: \"MatMul_1\"\n",
      "  }\n",
      "}\n",
      "node {\n",
      "  name: \"_retval_MatMul_1_0_0\"\n",
      "  op: \"_Retval\"\n",
      "  input: \"MatMul_1\"\n",
      "  device: \"/job:localhost/replica:0/task:0/device:CPU:0\"\n",
      "  attr {\n",
      "    key: \"T\"\n",
      "    value {\n",
      "      type: DT_FLOAT\n",
      "    }\n",
      "  }\n",
      "  attr {\n",
      "    key: \"index\"\n",
      "    value {\n",
      "      i: 0\n",
      "    }\n",
      "  }\n",
      "  experimental_debug_info {\n",
      "    original_node_names: \"_retval_MatMul_1_0_0\"\n",
      "  }\n",
      "}\n",
      "library {\n",
      "}\n",
      "versions {\n",
      "  producer: 27\n",
      "}\n",
      "]\n"
     ]
    }
   ],
   "source": [
    "#Other way to see info from run and CPU device executer\n",
    "# Creates a graph.\n",
    "a = tf.constant([1.0, 2.0, 3.0, 4.0, 5.0, 6.0], shape=[2, 3], name='a')\n",
    "b = tf.constant([1.0, 2.0, 3.0, 4.0, 5.0, 6.0], shape=[3, 2], name='b')\n",
    "c = tf.matmul(a, b)\n",
    "# Creates a session with log_device_placement set to True.\n",
    "sess = tf.Session()\n",
    "\n",
    "# Runs the op.\n",
    "options = tf.RunOptions(output_partition_graphs=True)\n",
    "metadata = tf.RunMetadata()\n",
    "c_val = sess.run(c, options=options, run_metadata=metadata)\n",
    "\n",
    "print(metadata.partition_graphs)"
   ]
  },
  {
   "cell_type": "code",
   "execution_count": null,
   "metadata": {},
   "outputs": [],
   "source": []
  }
 ],
 "metadata": {
  "kernelspec": {
   "display_name": "Python 3",
   "language": "python",
   "name": "python3"
  },
  "language_info": {
   "codemirror_mode": {
    "name": "ipython",
    "version": 3
   },
   "file_extension": ".py",
   "mimetype": "text/x-python",
   "name": "python",
   "nbconvert_exporter": "python",
   "pygments_lexer": "ipython3",
   "version": "3.6.5"
  }
 },
 "nbformat": 4,
 "nbformat_minor": 2
}
